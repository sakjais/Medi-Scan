{
 "cells": [
  {
   "cell_type": "markdown",
   "id": "75cc605f",
   "metadata": {
    "papermill": {
     "duration": 0.020235,
     "end_time": "2022-04-27T15:28:31.750098",
     "exception": false,
     "start_time": "2022-04-27T15:28:31.729863",
     "status": "completed"
    },
    "tags": []
   },
   "source": [
    "# Importing required libraries"
   ]
  },
  {
   "cell_type": "code",
   "execution_count": 1,
   "id": "4bc410d4",
   "metadata": {
    "execution": {
     "iopub.execute_input": "2022-04-27T15:28:31.791772Z",
     "iopub.status.busy": "2022-04-27T15:28:31.790638Z",
     "iopub.status.idle": "2022-04-27T15:28:33.096041Z",
     "shell.execute_reply": "2022-04-27T15:28:33.094842Z",
     "shell.execute_reply.started": "2022-04-27T15:11:14.356439Z"
    },
    "papermill": {
     "duration": 1.327355,
     "end_time": "2022-04-27T15:28:33.096256",
     "exception": false,
     "start_time": "2022-04-27T15:28:31.768901",
     "status": "completed"
    },
    "tags": []
   },
   "outputs": [],
   "source": [
    "import pandas as pd\n",
    "import numpy as np\n",
    "from sklearn.tree import DecisionTreeClassifier\n",
    "from sklearn.metrics import classification_report, accuracy_score\n",
    "from sklearn.metrics import mean_absolute_error\n",
    "from sklearn.model_selection import train_test_split"
   ]
  },
  {
   "cell_type": "markdown",
   "id": "4b3b6610",
   "metadata": {
    "papermill": {
     "duration": 0.019163,
     "end_time": "2022-04-27T15:28:33.134064",
     "exception": false,
     "start_time": "2022-04-27T15:28:33.114901",
     "status": "completed"
    },
    "tags": []
   },
   "source": [
    "# Fetching data"
   ]
  },
  {
   "cell_type": "code",
   "execution_count": 3,
   "id": "8d9aa49e",
   "metadata": {
    "execution": {
     "iopub.execute_input": "2022-04-27T15:28:33.175908Z",
     "iopub.status.busy": "2022-04-27T15:28:33.175154Z",
     "iopub.status.idle": "2022-04-27T15:28:33.562018Z",
     "shell.execute_reply": "2022-04-27T15:28:33.562570Z",
     "shell.execute_reply.started": "2022-04-27T15:11:18.029319Z"
    },
    "papermill": {
     "duration": 0.409979,
     "end_time": "2022-04-27T15:28:33.562773",
     "exception": false,
     "start_time": "2022-04-27T15:28:33.152794",
     "status": "completed"
    },
    "tags": []
   },
   "outputs": [
    {
     "data": {
      "text/html": [
       "<div>\n",
       "<style scoped>\n",
       "    .dataframe tbody tr th:only-of-type {\n",
       "        vertical-align: middle;\n",
       "    }\n",
       "\n",
       "    .dataframe tbody tr th {\n",
       "        vertical-align: top;\n",
       "    }\n",
       "\n",
       "    .dataframe thead th {\n",
       "        text-align: right;\n",
       "    }\n",
       "</style>\n",
       "<table border=\"1\" class=\"dataframe\">\n",
       "  <thead>\n",
       "    <tr style=\"text-align: right;\">\n",
       "      <th></th>\n",
       "      <th>itching</th>\n",
       "      <th>skin_rash</th>\n",
       "      <th>nodal_skin_eruptions</th>\n",
       "      <th>continuous_sneezing</th>\n",
       "      <th>shivering</th>\n",
       "      <th>chills</th>\n",
       "      <th>joint_pain</th>\n",
       "      <th>stomach_pain</th>\n",
       "      <th>acidity</th>\n",
       "      <th>ulcers_on_tongue</th>\n",
       "      <th>...</th>\n",
       "      <th>blackheads</th>\n",
       "      <th>scurring</th>\n",
       "      <th>skin_peeling</th>\n",
       "      <th>silver_like_dusting</th>\n",
       "      <th>small_dents_in_nails</th>\n",
       "      <th>inflammatory_nails</th>\n",
       "      <th>blister</th>\n",
       "      <th>red_sore_around_nose</th>\n",
       "      <th>yellow_crust_ooze</th>\n",
       "      <th>Unnamed: 133</th>\n",
       "    </tr>\n",
       "  </thead>\n",
       "  <tbody>\n",
       "    <tr>\n",
       "      <th>count</th>\n",
       "      <td>4920.000000</td>\n",
       "      <td>4920.000000</td>\n",
       "      <td>4920.000000</td>\n",
       "      <td>4920.000000</td>\n",
       "      <td>4920.000000</td>\n",
       "      <td>4920.000000</td>\n",
       "      <td>4920.000000</td>\n",
       "      <td>4920.000000</td>\n",
       "      <td>4920.000000</td>\n",
       "      <td>4920.000000</td>\n",
       "      <td>...</td>\n",
       "      <td>4920.000000</td>\n",
       "      <td>4920.000000</td>\n",
       "      <td>4920.000000</td>\n",
       "      <td>4920.000000</td>\n",
       "      <td>4920.000000</td>\n",
       "      <td>4920.000000</td>\n",
       "      <td>4920.000000</td>\n",
       "      <td>4920.000000</td>\n",
       "      <td>4920.000000</td>\n",
       "      <td>0.0</td>\n",
       "    </tr>\n",
       "    <tr>\n",
       "      <th>mean</th>\n",
       "      <td>0.137805</td>\n",
       "      <td>0.159756</td>\n",
       "      <td>0.021951</td>\n",
       "      <td>0.045122</td>\n",
       "      <td>0.021951</td>\n",
       "      <td>0.162195</td>\n",
       "      <td>0.139024</td>\n",
       "      <td>0.045122</td>\n",
       "      <td>0.045122</td>\n",
       "      <td>0.021951</td>\n",
       "      <td>...</td>\n",
       "      <td>0.021951</td>\n",
       "      <td>0.021951</td>\n",
       "      <td>0.023171</td>\n",
       "      <td>0.023171</td>\n",
       "      <td>0.023171</td>\n",
       "      <td>0.023171</td>\n",
       "      <td>0.023171</td>\n",
       "      <td>0.023171</td>\n",
       "      <td>0.023171</td>\n",
       "      <td>NaN</td>\n",
       "    </tr>\n",
       "    <tr>\n",
       "      <th>std</th>\n",
       "      <td>0.344730</td>\n",
       "      <td>0.366417</td>\n",
       "      <td>0.146539</td>\n",
       "      <td>0.207593</td>\n",
       "      <td>0.146539</td>\n",
       "      <td>0.368667</td>\n",
       "      <td>0.346007</td>\n",
       "      <td>0.207593</td>\n",
       "      <td>0.207593</td>\n",
       "      <td>0.146539</td>\n",
       "      <td>...</td>\n",
       "      <td>0.146539</td>\n",
       "      <td>0.146539</td>\n",
       "      <td>0.150461</td>\n",
       "      <td>0.150461</td>\n",
       "      <td>0.150461</td>\n",
       "      <td>0.150461</td>\n",
       "      <td>0.150461</td>\n",
       "      <td>0.150461</td>\n",
       "      <td>0.150461</td>\n",
       "      <td>NaN</td>\n",
       "    </tr>\n",
       "    <tr>\n",
       "      <th>min</th>\n",
       "      <td>0.000000</td>\n",
       "      <td>0.000000</td>\n",
       "      <td>0.000000</td>\n",
       "      <td>0.000000</td>\n",
       "      <td>0.000000</td>\n",
       "      <td>0.000000</td>\n",
       "      <td>0.000000</td>\n",
       "      <td>0.000000</td>\n",
       "      <td>0.000000</td>\n",
       "      <td>0.000000</td>\n",
       "      <td>...</td>\n",
       "      <td>0.000000</td>\n",
       "      <td>0.000000</td>\n",
       "      <td>0.000000</td>\n",
       "      <td>0.000000</td>\n",
       "      <td>0.000000</td>\n",
       "      <td>0.000000</td>\n",
       "      <td>0.000000</td>\n",
       "      <td>0.000000</td>\n",
       "      <td>0.000000</td>\n",
       "      <td>NaN</td>\n",
       "    </tr>\n",
       "    <tr>\n",
       "      <th>25%</th>\n",
       "      <td>0.000000</td>\n",
       "      <td>0.000000</td>\n",
       "      <td>0.000000</td>\n",
       "      <td>0.000000</td>\n",
       "      <td>0.000000</td>\n",
       "      <td>0.000000</td>\n",
       "      <td>0.000000</td>\n",
       "      <td>0.000000</td>\n",
       "      <td>0.000000</td>\n",
       "      <td>0.000000</td>\n",
       "      <td>...</td>\n",
       "      <td>0.000000</td>\n",
       "      <td>0.000000</td>\n",
       "      <td>0.000000</td>\n",
       "      <td>0.000000</td>\n",
       "      <td>0.000000</td>\n",
       "      <td>0.000000</td>\n",
       "      <td>0.000000</td>\n",
       "      <td>0.000000</td>\n",
       "      <td>0.000000</td>\n",
       "      <td>NaN</td>\n",
       "    </tr>\n",
       "    <tr>\n",
       "      <th>50%</th>\n",
       "      <td>0.000000</td>\n",
       "      <td>0.000000</td>\n",
       "      <td>0.000000</td>\n",
       "      <td>0.000000</td>\n",
       "      <td>0.000000</td>\n",
       "      <td>0.000000</td>\n",
       "      <td>0.000000</td>\n",
       "      <td>0.000000</td>\n",
       "      <td>0.000000</td>\n",
       "      <td>0.000000</td>\n",
       "      <td>...</td>\n",
       "      <td>0.000000</td>\n",
       "      <td>0.000000</td>\n",
       "      <td>0.000000</td>\n",
       "      <td>0.000000</td>\n",
       "      <td>0.000000</td>\n",
       "      <td>0.000000</td>\n",
       "      <td>0.000000</td>\n",
       "      <td>0.000000</td>\n",
       "      <td>0.000000</td>\n",
       "      <td>NaN</td>\n",
       "    </tr>\n",
       "    <tr>\n",
       "      <th>75%</th>\n",
       "      <td>0.000000</td>\n",
       "      <td>0.000000</td>\n",
       "      <td>0.000000</td>\n",
       "      <td>0.000000</td>\n",
       "      <td>0.000000</td>\n",
       "      <td>0.000000</td>\n",
       "      <td>0.000000</td>\n",
       "      <td>0.000000</td>\n",
       "      <td>0.000000</td>\n",
       "      <td>0.000000</td>\n",
       "      <td>...</td>\n",
       "      <td>0.000000</td>\n",
       "      <td>0.000000</td>\n",
       "      <td>0.000000</td>\n",
       "      <td>0.000000</td>\n",
       "      <td>0.000000</td>\n",
       "      <td>0.000000</td>\n",
       "      <td>0.000000</td>\n",
       "      <td>0.000000</td>\n",
       "      <td>0.000000</td>\n",
       "      <td>NaN</td>\n",
       "    </tr>\n",
       "    <tr>\n",
       "      <th>max</th>\n",
       "      <td>1.000000</td>\n",
       "      <td>1.000000</td>\n",
       "      <td>1.000000</td>\n",
       "      <td>1.000000</td>\n",
       "      <td>1.000000</td>\n",
       "      <td>1.000000</td>\n",
       "      <td>1.000000</td>\n",
       "      <td>1.000000</td>\n",
       "      <td>1.000000</td>\n",
       "      <td>1.000000</td>\n",
       "      <td>...</td>\n",
       "      <td>1.000000</td>\n",
       "      <td>1.000000</td>\n",
       "      <td>1.000000</td>\n",
       "      <td>1.000000</td>\n",
       "      <td>1.000000</td>\n",
       "      <td>1.000000</td>\n",
       "      <td>1.000000</td>\n",
       "      <td>1.000000</td>\n",
       "      <td>1.000000</td>\n",
       "      <td>NaN</td>\n",
       "    </tr>\n",
       "  </tbody>\n",
       "</table>\n",
       "<p>8 rows × 133 columns</p>\n",
       "</div>"
      ],
      "text/plain": [
       "           itching    skin_rash  nodal_skin_eruptions  continuous_sneezing  \\\n",
       "count  4920.000000  4920.000000           4920.000000          4920.000000   \n",
       "mean      0.137805     0.159756              0.021951             0.045122   \n",
       "std       0.344730     0.366417              0.146539             0.207593   \n",
       "min       0.000000     0.000000              0.000000             0.000000   \n",
       "25%       0.000000     0.000000              0.000000             0.000000   \n",
       "50%       0.000000     0.000000              0.000000             0.000000   \n",
       "75%       0.000000     0.000000              0.000000             0.000000   \n",
       "max       1.000000     1.000000              1.000000             1.000000   \n",
       "\n",
       "         shivering       chills   joint_pain  stomach_pain      acidity  \\\n",
       "count  4920.000000  4920.000000  4920.000000   4920.000000  4920.000000   \n",
       "mean      0.021951     0.162195     0.139024      0.045122     0.045122   \n",
       "std       0.146539     0.368667     0.346007      0.207593     0.207593   \n",
       "min       0.000000     0.000000     0.000000      0.000000     0.000000   \n",
       "25%       0.000000     0.000000     0.000000      0.000000     0.000000   \n",
       "50%       0.000000     0.000000     0.000000      0.000000     0.000000   \n",
       "75%       0.000000     0.000000     0.000000      0.000000     0.000000   \n",
       "max       1.000000     1.000000     1.000000      1.000000     1.000000   \n",
       "\n",
       "       ulcers_on_tongue  ...   blackheads     scurring  skin_peeling  \\\n",
       "count       4920.000000  ...  4920.000000  4920.000000   4920.000000   \n",
       "mean           0.021951  ...     0.021951     0.021951      0.023171   \n",
       "std            0.146539  ...     0.146539     0.146539      0.150461   \n",
       "min            0.000000  ...     0.000000     0.000000      0.000000   \n",
       "25%            0.000000  ...     0.000000     0.000000      0.000000   \n",
       "50%            0.000000  ...     0.000000     0.000000      0.000000   \n",
       "75%            0.000000  ...     0.000000     0.000000      0.000000   \n",
       "max            1.000000  ...     1.000000     1.000000      1.000000   \n",
       "\n",
       "       silver_like_dusting  small_dents_in_nails  inflammatory_nails  \\\n",
       "count          4920.000000           4920.000000         4920.000000   \n",
       "mean              0.023171              0.023171            0.023171   \n",
       "std               0.150461              0.150461            0.150461   \n",
       "min               0.000000              0.000000            0.000000   \n",
       "25%               0.000000              0.000000            0.000000   \n",
       "50%               0.000000              0.000000            0.000000   \n",
       "75%               0.000000              0.000000            0.000000   \n",
       "max               1.000000              1.000000            1.000000   \n",
       "\n",
       "           blister  red_sore_around_nose  yellow_crust_ooze  Unnamed: 133  \n",
       "count  4920.000000           4920.000000        4920.000000           0.0  \n",
       "mean      0.023171              0.023171           0.023171           NaN  \n",
       "std       0.150461              0.150461           0.150461           NaN  \n",
       "min       0.000000              0.000000           0.000000           NaN  \n",
       "25%       0.000000              0.000000           0.000000           NaN  \n",
       "50%       0.000000              0.000000           0.000000           NaN  \n",
       "75%       0.000000              0.000000           0.000000           NaN  \n",
       "max       1.000000              1.000000           1.000000           NaN  \n",
       "\n",
       "[8 rows x 133 columns]"
      ]
     },
     "execution_count": 3,
     "metadata": {},
     "output_type": "execute_result"
    }
   ],
   "source": [
    "df = pd.read_csv(r\"C:\\Users\\LENOVO\\Downloads\\Multiple Disease Prediction System v2.0\\Multiple Disease Prediction System v2.0\\Symptom model\\Training.csv\")\n",
    "df.describe()"
   ]
  },
  {
   "cell_type": "code",
   "execution_count": 4,
   "id": "93336d59",
   "metadata": {
    "execution": {
     "iopub.execute_input": "2022-04-27T15:28:33.608614Z",
     "iopub.status.busy": "2022-04-27T15:28:33.607856Z",
     "iopub.status.idle": "2022-04-27T15:28:33.610983Z",
     "shell.execute_reply": "2022-04-27T15:28:33.611571Z",
     "shell.execute_reply.started": "2022-04-27T15:11:21.218662Z"
    },
    "papermill": {
     "duration": 0.028547,
     "end_time": "2022-04-27T15:28:33.611738",
     "exception": false,
     "start_time": "2022-04-27T15:28:33.583191",
     "status": "completed"
    },
    "tags": []
   },
   "outputs": [
    {
     "data": {
      "text/plain": [
       "(4920, 134)"
      ]
     },
     "execution_count": 4,
     "metadata": {},
     "output_type": "execute_result"
    }
   ],
   "source": [
    "df.shape"
   ]
  },
  {
   "cell_type": "code",
   "execution_count": 5,
   "id": "febeb59b",
   "metadata": {
    "execution": {
     "iopub.execute_input": "2022-04-27T15:28:33.654274Z",
     "iopub.status.busy": "2022-04-27T15:28:33.653670Z",
     "iopub.status.idle": "2022-04-27T15:28:33.664613Z",
     "shell.execute_reply": "2022-04-27T15:28:33.665203Z",
     "shell.execute_reply.started": "2022-04-27T15:11:23.544644Z"
    },
    "papermill": {
     "duration": 0.034181,
     "end_time": "2022-04-27T15:28:33.665396",
     "exception": false,
     "start_time": "2022-04-27T15:28:33.631215",
     "status": "completed"
    },
    "scrolled": true,
    "tags": []
   },
   "outputs": [
    {
     "data": {
      "text/plain": [
       "Index(['itching', 'skin_rash', 'nodal_skin_eruptions', 'continuous_sneezing',\n",
       "       'shivering', 'chills', 'joint_pain', 'stomach_pain', 'acidity',\n",
       "       'ulcers_on_tongue',\n",
       "       ...\n",
       "       'blackheads', 'scurring', 'skin_peeling', 'silver_like_dusting',\n",
       "       'small_dents_in_nails', 'inflammatory_nails', 'blister',\n",
       "       'red_sore_around_nose', 'yellow_crust_ooze', 'prognosis'],\n",
       "      dtype='object', length=133)"
      ]
     },
     "execution_count": 5,
     "metadata": {},
     "output_type": "execute_result"
    }
   ],
   "source": [
    "df.drop('Unnamed: 133', axis=1, inplace=True)\n",
    "df.columns"
   ]
  },
  {
   "cell_type": "code",
   "execution_count": 6,
   "id": "0d5129db",
   "metadata": {
    "execution": {
     "iopub.execute_input": "2022-04-27T15:28:33.709977Z",
     "iopub.status.busy": "2022-04-27T15:28:33.709009Z",
     "iopub.status.idle": "2022-04-27T15:28:33.718493Z",
     "shell.execute_reply": "2022-04-27T15:28:33.719034Z",
     "shell.execute_reply.started": "2022-04-27T15:11:43.391400Z"
    },
    "papermill": {
     "duration": 0.033471,
     "end_time": "2022-04-27T15:28:33.719222",
     "exception": false,
     "start_time": "2022-04-27T15:28:33.685751",
     "status": "completed"
    },
    "tags": []
   },
   "outputs": [
    {
     "data": {
      "text/plain": [
       "Fungal infection                           120\n",
       "Hepatitis C                                120\n",
       "Hepatitis E                                120\n",
       "Alcoholic hepatitis                        120\n",
       "Tuberculosis                               120\n",
       "Common Cold                                120\n",
       "Pneumonia                                  120\n",
       "Dimorphic hemmorhoids(piles)               120\n",
       "Heart attack                               120\n",
       "Varicose veins                             120\n",
       "Hypothyroidism                             120\n",
       "Hyperthyroidism                            120\n",
       "Hypoglycemia                               120\n",
       "Osteoarthristis                            120\n",
       "Arthritis                                  120\n",
       "(vertigo) Paroymsal  Positional Vertigo    120\n",
       "Acne                                       120\n",
       "Urinary tract infection                    120\n",
       "Psoriasis                                  120\n",
       "Hepatitis D                                120\n",
       "Hepatitis B                                120\n",
       "Allergy                                    120\n",
       "hepatitis A                                120\n",
       "GERD                                       120\n",
       "Chronic cholestasis                        120\n",
       "Drug Reaction                              120\n",
       "Peptic ulcer diseae                        120\n",
       "AIDS                                       120\n",
       "Diabetes                                   120\n",
       "Gastroenteritis                            120\n",
       "Bronchial Asthma                           120\n",
       "Hypertension                               120\n",
       "Migraine                                   120\n",
       "Cervical spondylosis                       120\n",
       "Paralysis (brain hemorrhage)               120\n",
       "Jaundice                                   120\n",
       "Malaria                                    120\n",
       "Chicken pox                                120\n",
       "Dengue                                     120\n",
       "Typhoid                                    120\n",
       "Impetigo                                   120\n",
       "Name: prognosis, dtype: int64"
      ]
     },
     "execution_count": 6,
     "metadata": {},
     "output_type": "execute_result"
    }
   ],
   "source": [
    "df['prognosis'].value_counts()"
   ]
  },
  {
   "cell_type": "markdown",
   "id": "06475474",
   "metadata": {
    "papermill": {
     "duration": 0.021407,
     "end_time": "2022-04-27T15:28:33.761505",
     "exception": false,
     "start_time": "2022-04-27T15:28:33.740098",
     "status": "completed"
    },
    "tags": []
   },
   "source": [
    "## let's split the data for training"
   ]
  },
  {
   "cell_type": "code",
   "execution_count": 7,
   "id": "b5150b61",
   "metadata": {
    "execution": {
     "iopub.execute_input": "2022-04-27T15:28:33.807913Z",
     "iopub.status.busy": "2022-04-27T15:28:33.807235Z",
     "iopub.status.idle": "2022-04-27T15:28:33.822481Z",
     "shell.execute_reply": "2022-04-27T15:28:33.823019Z",
     "shell.execute_reply.started": "2022-04-27T15:16:50.149110Z"
    },
    "papermill": {
     "duration": 0.03957,
     "end_time": "2022-04-27T15:28:33.823214",
     "exception": false,
     "start_time": "2022-04-27T15:28:33.783644",
     "status": "completed"
    },
    "tags": []
   },
   "outputs": [],
   "source": [
    "x = df.drop('prognosis', axis = 1)\n",
    "y = df['prognosis']\n",
    "x_train, x_test, y_train, y_test = train_test_split(x, y, test_size=0.3, random_state=42) "
   ]
  },
  {
   "cell_type": "markdown",
   "id": "5c3c2566",
   "metadata": {
    "papermill": {
     "duration": 0.020409,
     "end_time": "2022-04-27T15:28:33.864443",
     "exception": false,
     "start_time": "2022-04-27T15:28:33.844034",
     "status": "completed"
    },
    "tags": []
   },
   "source": [
    "## Let's train our model "
   ]
  },
  {
   "cell_type": "code",
   "execution_count": 8,
   "id": "07c766c0",
   "metadata": {
    "execution": {
     "iopub.execute_input": "2022-04-27T15:28:33.910645Z",
     "iopub.status.busy": "2022-04-27T15:28:33.909964Z",
     "iopub.status.idle": "2022-04-27T15:28:33.913328Z",
     "shell.execute_reply": "2022-04-27T15:28:33.913962Z",
     "shell.execute_reply.started": "2022-04-27T15:16:53.193177Z"
    },
    "papermill": {
     "duration": 0.028849,
     "end_time": "2022-04-27T15:28:33.914144",
     "exception": false,
     "start_time": "2022-04-27T15:28:33.885295",
     "status": "completed"
    },
    "tags": []
   },
   "outputs": [],
   "source": [
    "tree = DecisionTreeClassifier()"
   ]
  },
  {
   "cell_type": "code",
   "execution_count": 9,
   "id": "98f93325",
   "metadata": {
    "execution": {
     "iopub.execute_input": "2022-04-27T15:28:33.963734Z",
     "iopub.status.busy": "2022-04-27T15:28:33.963039Z",
     "iopub.status.idle": "2022-04-27T15:28:34.018522Z",
     "shell.execute_reply": "2022-04-27T15:28:34.017872Z",
     "shell.execute_reply.started": "2022-04-27T15:16:55.481646Z"
    },
    "papermill": {
     "duration": 0.081886,
     "end_time": "2022-04-27T15:28:34.018686",
     "exception": false,
     "start_time": "2022-04-27T15:28:33.936800",
     "status": "completed"
    },
    "tags": []
   },
   "outputs": [
    {
     "data": {
      "text/html": [
       "<style>#sk-container-id-1 {color: black;background-color: white;}#sk-container-id-1 pre{padding: 0;}#sk-container-id-1 div.sk-toggleable {background-color: white;}#sk-container-id-1 label.sk-toggleable__label {cursor: pointer;display: block;width: 100%;margin-bottom: 0;padding: 0.3em;box-sizing: border-box;text-align: center;}#sk-container-id-1 label.sk-toggleable__label-arrow:before {content: \"▸\";float: left;margin-right: 0.25em;color: #696969;}#sk-container-id-1 label.sk-toggleable__label-arrow:hover:before {color: black;}#sk-container-id-1 div.sk-estimator:hover label.sk-toggleable__label-arrow:before {color: black;}#sk-container-id-1 div.sk-toggleable__content {max-height: 0;max-width: 0;overflow: hidden;text-align: left;background-color: #f0f8ff;}#sk-container-id-1 div.sk-toggleable__content pre {margin: 0.2em;color: black;border-radius: 0.25em;background-color: #f0f8ff;}#sk-container-id-1 input.sk-toggleable__control:checked~div.sk-toggleable__content {max-height: 200px;max-width: 100%;overflow: auto;}#sk-container-id-1 input.sk-toggleable__control:checked~label.sk-toggleable__label-arrow:before {content: \"▾\";}#sk-container-id-1 div.sk-estimator input.sk-toggleable__control:checked~label.sk-toggleable__label {background-color: #d4ebff;}#sk-container-id-1 div.sk-label input.sk-toggleable__control:checked~label.sk-toggleable__label {background-color: #d4ebff;}#sk-container-id-1 input.sk-hidden--visually {border: 0;clip: rect(1px 1px 1px 1px);clip: rect(1px, 1px, 1px, 1px);height: 1px;margin: -1px;overflow: hidden;padding: 0;position: absolute;width: 1px;}#sk-container-id-1 div.sk-estimator {font-family: monospace;background-color: #f0f8ff;border: 1px dotted black;border-radius: 0.25em;box-sizing: border-box;margin-bottom: 0.5em;}#sk-container-id-1 div.sk-estimator:hover {background-color: #d4ebff;}#sk-container-id-1 div.sk-parallel-item::after {content: \"\";width: 100%;border-bottom: 1px solid gray;flex-grow: 1;}#sk-container-id-1 div.sk-label:hover label.sk-toggleable__label {background-color: #d4ebff;}#sk-container-id-1 div.sk-serial::before {content: \"\";position: absolute;border-left: 1px solid gray;box-sizing: border-box;top: 0;bottom: 0;left: 50%;z-index: 0;}#sk-container-id-1 div.sk-serial {display: flex;flex-direction: column;align-items: center;background-color: white;padding-right: 0.2em;padding-left: 0.2em;position: relative;}#sk-container-id-1 div.sk-item {position: relative;z-index: 1;}#sk-container-id-1 div.sk-parallel {display: flex;align-items: stretch;justify-content: center;background-color: white;position: relative;}#sk-container-id-1 div.sk-item::before, #sk-container-id-1 div.sk-parallel-item::before {content: \"\";position: absolute;border-left: 1px solid gray;box-sizing: border-box;top: 0;bottom: 0;left: 50%;z-index: -1;}#sk-container-id-1 div.sk-parallel-item {display: flex;flex-direction: column;z-index: 1;position: relative;background-color: white;}#sk-container-id-1 div.sk-parallel-item:first-child::after {align-self: flex-end;width: 50%;}#sk-container-id-1 div.sk-parallel-item:last-child::after {align-self: flex-start;width: 50%;}#sk-container-id-1 div.sk-parallel-item:only-child::after {width: 0;}#sk-container-id-1 div.sk-dashed-wrapped {border: 1px dashed gray;margin: 0 0.4em 0.5em 0.4em;box-sizing: border-box;padding-bottom: 0.4em;background-color: white;}#sk-container-id-1 div.sk-label label {font-family: monospace;font-weight: bold;display: inline-block;line-height: 1.2em;}#sk-container-id-1 div.sk-label-container {text-align: center;}#sk-container-id-1 div.sk-container {/* jupyter's `normalize.less` sets `[hidden] { display: none; }` but bootstrap.min.css set `[hidden] { display: none !important; }` so we also need the `!important` here to be able to override the default hidden behavior on the sphinx rendered scikit-learn.org. See: https://github.com/scikit-learn/scikit-learn/issues/21755 */display: inline-block !important;position: relative;}#sk-container-id-1 div.sk-text-repr-fallback {display: none;}</style><div id=\"sk-container-id-1\" class=\"sk-top-container\"><div class=\"sk-text-repr-fallback\"><pre>DecisionTreeClassifier()</pre><b>In a Jupyter environment, please rerun this cell to show the HTML representation or trust the notebook. <br />On GitHub, the HTML representation is unable to render, please try loading this page with nbviewer.org.</b></div><div class=\"sk-container\" hidden><div class=\"sk-item\"><div class=\"sk-estimator sk-toggleable\"><input class=\"sk-toggleable__control sk-hidden--visually\" id=\"sk-estimator-id-1\" type=\"checkbox\" checked><label for=\"sk-estimator-id-1\" class=\"sk-toggleable__label sk-toggleable__label-arrow\">DecisionTreeClassifier</label><div class=\"sk-toggleable__content\"><pre>DecisionTreeClassifier()</pre></div></div></div></div></div>"
      ],
      "text/plain": [
       "DecisionTreeClassifier()"
      ]
     },
     "execution_count": 9,
     "metadata": {},
     "output_type": "execute_result"
    }
   ],
   "source": [
    "tree.fit(x_train, y_train)"
   ]
  },
  {
   "cell_type": "code",
   "execution_count": 10,
   "id": "4d42f340",
   "metadata": {
    "execution": {
     "iopub.execute_input": "2022-04-27T15:28:34.072590Z",
     "iopub.status.busy": "2022-04-27T15:28:34.071394Z",
     "iopub.status.idle": "2022-04-27T15:28:34.084854Z",
     "shell.execute_reply": "2022-04-27T15:28:34.083911Z",
     "shell.execute_reply.started": "2022-04-27T15:17:39.869805Z"
    },
    "papermill": {
     "duration": 0.044235,
     "end_time": "2022-04-27T15:28:34.085030",
     "exception": false,
     "start_time": "2022-04-27T15:28:34.040795",
     "status": "completed"
    },
    "tags": []
   },
   "outputs": [
    {
     "name": "stdout",
     "output_type": "stream",
     "text": [
      "Acurray on test set: 100.00%\n"
     ]
    }
   ],
   "source": [
    "pred = tree.predict(x_test)\n",
    "acc = tree.score(x_test, y_test)\n",
    "\n",
    "print(\"Acurray on test set: {:.2f}%\".format(acc*100))\n"
   ]
  },
  {
   "cell_type": "code",
   "execution_count": 11,
   "id": "d68d4e60",
   "metadata": {
    "execution": {
     "iopub.execute_input": "2022-04-27T15:28:34.133234Z",
     "iopub.status.busy": "2022-04-27T15:28:34.132576Z",
     "iopub.status.idle": "2022-04-27T15:28:34.145766Z",
     "shell.execute_reply": "2022-04-27T15:28:34.146358Z",
     "shell.execute_reply.started": "2022-04-27T15:27:07.041128Z"
    },
    "papermill": {
     "duration": 0.038996,
     "end_time": "2022-04-27T15:28:34.146573",
     "exception": false,
     "start_time": "2022-04-27T15:28:34.107577",
     "status": "completed"
    },
    "tags": []
   },
   "outputs": [
    {
     "data": {
      "text/html": [
       "<div>\n",
       "<style scoped>\n",
       "    .dataframe tbody tr th:only-of-type {\n",
       "        vertical-align: middle;\n",
       "    }\n",
       "\n",
       "    .dataframe tbody tr th {\n",
       "        vertical-align: top;\n",
       "    }\n",
       "\n",
       "    .dataframe thead th {\n",
       "        text-align: right;\n",
       "    }\n",
       "</style>\n",
       "<table border=\"1\" class=\"dataframe\">\n",
       "  <thead>\n",
       "    <tr style=\"text-align: right;\">\n",
       "      <th></th>\n",
       "      <th>Importance</th>\n",
       "    </tr>\n",
       "  </thead>\n",
       "  <tbody>\n",
       "    <tr>\n",
       "      <th>yellowing_of_eyes</th>\n",
       "      <td>4.656678</td>\n",
       "    </tr>\n",
       "    <tr>\n",
       "      <th>congestion</th>\n",
       "      <td>2.645294</td>\n",
       "    </tr>\n",
       "    <tr>\n",
       "      <th>internal_itching</th>\n",
       "      <td>2.638602</td>\n",
       "    </tr>\n",
       "    <tr>\n",
       "      <th>hip_joint_pain</th>\n",
       "      <td>2.609205</td>\n",
       "    </tr>\n",
       "    <tr>\n",
       "      <th>polyuria</th>\n",
       "      <td>2.586532</td>\n",
       "    </tr>\n",
       "    <tr>\n",
       "      <th>...</th>\n",
       "      <td>...</td>\n",
       "    </tr>\n",
       "    <tr>\n",
       "      <th>cramps</th>\n",
       "      <td>0.000000</td>\n",
       "    </tr>\n",
       "    <tr>\n",
       "      <th>dizziness</th>\n",
       "      <td>0.000000</td>\n",
       "    </tr>\n",
       "    <tr>\n",
       "      <th>irritation_in_anus</th>\n",
       "      <td>0.000000</td>\n",
       "    </tr>\n",
       "    <tr>\n",
       "      <th>bloody_stool</th>\n",
       "      <td>0.000000</td>\n",
       "    </tr>\n",
       "    <tr>\n",
       "      <th>bruising</th>\n",
       "      <td>0.000000</td>\n",
       "    </tr>\n",
       "  </tbody>\n",
       "</table>\n",
       "<p>132 rows × 1 columns</p>\n",
       "</div>"
      ],
      "text/plain": [
       "                    Importance\n",
       "yellowing_of_eyes     4.656678\n",
       "congestion            2.645294\n",
       "internal_itching      2.638602\n",
       "hip_joint_pain        2.609205\n",
       "polyuria              2.586532\n",
       "...                        ...\n",
       "cramps                0.000000\n",
       "dizziness             0.000000\n",
       "irritation_in_anus    0.000000\n",
       "bloody_stool          0.000000\n",
       "bruising              0.000000\n",
       "\n",
       "[132 rows x 1 columns]"
      ]
     },
     "execution_count": 11,
     "metadata": {},
     "output_type": "execute_result"
    }
   ],
   "source": [
    "fi = pd.DataFrame(tree.feature_importances_*100, x_test.columns, columns=['Importance'])\n",
    "fi.sort_values(by='Importance',ascending=False, inplace=True)\n",
    "fi"
   ]
  },
  {
   "cell_type": "code",
   "execution_count": 12,
   "id": "dac611ab",
   "metadata": {
    "execution": {
     "iopub.execute_input": "2022-04-27T15:28:34.202099Z",
     "iopub.status.busy": "2022-04-27T15:28:34.201419Z",
     "iopub.status.idle": "2022-04-27T15:28:34.204172Z",
     "shell.execute_reply": "2022-04-27T15:28:34.204701Z",
     "shell.execute_reply.started": "2022-04-27T15:27:16.258993Z"
    },
    "papermill": {
     "duration": 0.034829,
     "end_time": "2022-04-27T15:28:34.204886",
     "exception": false,
     "start_time": "2022-04-27T15:28:34.170057",
     "status": "completed"
    },
    "tags": []
   },
   "outputs": [
    {
     "data": {
      "text/plain": [
       "array(['nausea', 'spotting_ urination', 'watering_from_eyes',\n",
       "       'patches_in_throat', 'receiving_unsterile_injections',\n",
       "       'family_history', 'stomach_bleeding', 'ulcers_on_tongue',\n",
       "       'diarrhoea', 'constipation', 'pus_filled_pimples', 'sweating',\n",
       "       'joint_pain', 'breathlessness', 'chest_pain', 'shivering',\n",
       "       'nodal_skin_eruptions', 'knee_pain', 'chills', 'acidity',\n",
       "       'scurring', 'stomach_pain', 'weakness_of_one_body_side',\n",
       "       'extra_marital_contacts', 'fatigue', 'abdominal_pain', 'blister',\n",
       "       'small_dents_in_nails', 'swelled_lymph_nodes',\n",
       "       'burning_micturition', 'passage_of_gases', 'sunken_eyes',\n",
       "       'irritability', 'loss_of_balance', 'high_fever',\n",
       "       'history_of_alcohol_consumption', 'pain_in_anal_region',\n",
       "       'swollen_legs', 'loss_of_appetite', 'increased_appetite',\n",
       "       'bladder_discomfort', 'foul_smell_of urine', 'continuous_sneezing',\n",
       "       'anxiety', 'coma', 'weight_gain', 'toxic_look_(typhos)',\n",
       "       'palpitations', 'red_sore_around_nose', 'inflammatory_nails',\n",
       "       'skin_peeling', 'visual_disturbances', 'painful_walking',\n",
       "       'blackheads', 'mucoid_sputum', 'red_spots_over_body', 'vomiting',\n",
       "       'muscle_wasting', 'distention_of_abdomen',\n",
       "       'receiving_blood_transfusion', 'restlessness', 'loss_of_smell',\n",
       "       'fluid_overload', 'runny_nose', 'sinus_pressure',\n",
       "       'redness_of_eyes', 'throat_irritation', 'phlegm',\n",
       "       'blurred_and_distorted_vision', 'malaise', 'swelling_of_stomach',\n",
       "       'acute_liver_failure', 'weakness_in_limbs', 'cough',\n",
       "       'yellow_urine', 'back_pain', 'dark_urine', 'yellowish_skin',\n",
       "       'headache', 'indigestion', 'dehydration', 'irregular_sugar_level',\n",
       "       'fast_heart_rate', 'cold_hands_and_feets', 'brittle_nails',\n",
       "       'spinning_movements', 'mood_swings', 'swelling_joints',\n",
       "       'stiff_neck', 'muscle_weakness', 'drying_and_tingling_lips',\n",
       "       'excessive_hunger', 'swollen_extremeties', 'lethargy',\n",
       "       'pain_during_bowel_movements', 'puffy_face_and_eyes',\n",
       "       'swollen_blood_vessels', 'obesity', 'skin_rash', 'cramps',\n",
       "       'dizziness', 'irritation_in_anus', 'bloody_stool', 'bruising'],\n",
       "      dtype=object)"
      ]
     },
     "execution_count": 12,
     "metadata": {},
     "output_type": "execute_result"
    }
   ],
   "source": [
    "zeros = np.array(fi[fi['Importance'] <= 2.300000].index)\n",
    "zeros"
   ]
  },
  {
   "cell_type": "code",
   "execution_count": 13,
   "id": "c21e6751",
   "metadata": {
    "execution": {
     "iopub.execute_input": "2022-04-27T15:28:34.254508Z",
     "iopub.status.busy": "2022-04-27T15:28:34.253884Z",
     "iopub.status.idle": "2022-04-27T15:28:34.261374Z",
     "shell.execute_reply": "2022-04-27T15:28:34.261985Z",
     "shell.execute_reply.started": "2022-04-27T15:27:20.987632Z"
    },
    "papermill": {
     "duration": 0.033933,
     "end_time": "2022-04-27T15:28:34.262180",
     "exception": false,
     "start_time": "2022-04-27T15:28:34.228247",
     "status": "completed"
    },
    "tags": []
   },
   "outputs": [
    {
     "data": {
      "text/plain": [
       "Index(['itching', 'weight_loss', 'pain_behind_the_eyes', 'mild_fever',\n",
       "       'yellowing_of_eyes', 'congestion', 'neck_pain', 'enlarged_thyroid',\n",
       "       'slurred_speech', 'hip_joint_pain', 'movement_stiffness',\n",
       "       'unsteadiness', 'continuous_feel_of_urine', 'internal_itching',\n",
       "       'depression', 'muscle_pain', 'altered_sensorium', 'belly_pain',\n",
       "       'abnormal_menstruation', 'dischromic _patches', 'polyuria',\n",
       "       'rusty_sputum', 'lack_of_concentration', 'fluid_overload.1',\n",
       "       'blood_in_sputum', 'prominent_veins_on_calf', 'silver_like_dusting',\n",
       "       'yellow_crust_ooze', 'prognosis'],\n",
       "      dtype='object')"
      ]
     },
     "execution_count": 13,
     "metadata": {},
     "output_type": "execute_result"
    }
   ],
   "source": [
    "training_new = df.drop(columns=zeros, axis=1)\n",
    "training_new.shape[1]\n",
    "training_new.columns"
   ]
  },
  {
   "cell_type": "code",
   "execution_count": 14,
   "id": "d0819906",
   "metadata": {
    "execution": {
     "iopub.execute_input": "2022-04-27T15:28:34.313251Z",
     "iopub.status.busy": "2022-04-27T15:28:34.312603Z",
     "iopub.status.idle": "2022-04-27T15:28:34.318184Z",
     "shell.execute_reply": "2022-04-27T15:28:34.318745Z",
     "shell.execute_reply.started": "2022-04-27T15:27:25.079363Z"
    },
    "papermill": {
     "duration": 0.032349,
     "end_time": "2022-04-27T15:28:34.318952",
     "exception": false,
     "start_time": "2022-04-27T15:28:34.286603",
     "status": "completed"
    },
    "tags": []
   },
   "outputs": [],
   "source": [
    "def modelling(df1):\n",
    "    x_new = df1.drop('prognosis', axis = 1)\n",
    "    y_new = df1.prognosis\n",
    "    x_train_new, x_test_new, y_train_new, y_test_new = train_test_split(x_new, y_new, test_size=0.3, random_state=42) \n",
    "    tree.fit(x_train_new, y_train_new)\n",
    "    \n",
    "    pred_new = tree.predict(x_test_new)\n",
    "    \n",
    "    acc_new = tree.score(x_test_new, y_test_new)\n",
    "#     a = mean_absolute_error(y_test_new, pred_new)\n",
    "    print(\"Acurray on test set: {:.2f}%\".format(acc*100))\n",
    "#     print(\"mean_absolute_error of the test set: {:.2f}%\".format(a))"
   ]
  },
  {
   "cell_type": "code",
   "execution_count": 15,
   "id": "0c0cbcb9",
   "metadata": {
    "execution": {
     "iopub.execute_input": "2022-04-27T15:28:34.369866Z",
     "iopub.status.busy": "2022-04-27T15:28:34.369189Z",
     "iopub.status.idle": "2022-04-27T15:28:34.393007Z",
     "shell.execute_reply": "2022-04-27T15:28:34.393513Z",
     "shell.execute_reply.started": "2022-04-27T15:27:30.436617Z"
    },
    "papermill": {
     "duration": 0.050584,
     "end_time": "2022-04-27T15:28:34.393712",
     "exception": false,
     "start_time": "2022-04-27T15:28:34.343128",
     "status": "completed"
    },
    "tags": []
   },
   "outputs": [
    {
     "name": "stdout",
     "output_type": "stream",
     "text": [
      "   itching  skin_rash  nodal_skin_eruptions  continuous_sneezing  shivering  \\\n",
      "0        1          1                     1                    0          0   \n",
      "1        0          0                     0                    1          1   \n",
      "2        0          0                     0                    0          0   \n",
      "3        1          0                     0                    0          0   \n",
      "4        1          1                     0                    0          0   \n",
      "\n",
      "   chills  joint_pain  stomach_pain  acidity  ulcers_on_tongue  ...  \\\n",
      "0       0           0             0        0                 0  ...   \n",
      "1       1           0             0        0                 0  ...   \n",
      "2       0           0             1        1                 1  ...   \n",
      "3       0           0             0        0                 0  ...   \n",
      "4       0           0             1        0                 0  ...   \n",
      "\n",
      "   blackheads  scurring  skin_peeling  silver_like_dusting  \\\n",
      "0           0         0             0                    0   \n",
      "1           0         0             0                    0   \n",
      "2           0         0             0                    0   \n",
      "3           0         0             0                    0   \n",
      "4           0         0             0                    0   \n",
      "\n",
      "   small_dents_in_nails  inflammatory_nails  blister  red_sore_around_nose  \\\n",
      "0                     0                   0        0                     0   \n",
      "1                     0                   0        0                     0   \n",
      "2                     0                   0        0                     0   \n",
      "3                     0                   0        0                     0   \n",
      "4                     0                   0        0                     0   \n",
      "\n",
      "   yellow_crust_ooze            prognosis  \n",
      "0                  0     Fungal infection  \n",
      "1                  0              Allergy  \n",
      "2                  0                 GERD  \n",
      "3                  0  Chronic cholestasis  \n",
      "4                  0        Drug Reaction  \n",
      "\n",
      "[5 rows x 133 columns]\n"
     ]
    },
    {
     "data": {
      "text/plain": [
       "29"
      ]
     },
     "execution_count": 15,
     "metadata": {},
     "output_type": "execute_result"
    }
   ],
   "source": [
    "test = pd.read_csv(r\"C:\\Users\\LENOVO\\Downloads\\Multiple Disease Prediction System v2.0\\Multiple Disease Prediction System v2.0\\Symptom model\\Testing.csv\")\n",
    "print(test.head())\n",
    "test_new = test.drop(columns=zeros, axis=1)\n",
    "test_new.shape[1]"
   ]
  },
  {
   "cell_type": "code",
   "execution_count": 16,
   "id": "355d2e7d",
   "metadata": {
    "execution": {
     "iopub.execute_input": "2022-04-27T15:28:34.443976Z",
     "iopub.status.busy": "2022-04-27T15:28:34.443326Z",
     "iopub.status.idle": "2022-04-27T15:28:34.456683Z",
     "shell.execute_reply": "2022-04-27T15:28:34.456052Z",
     "shell.execute_reply.started": "2022-04-27T15:27:33.222791Z"
    },
    "papermill": {
     "duration": 0.039615,
     "end_time": "2022-04-27T15:28:34.456834",
     "exception": false,
     "start_time": "2022-04-27T15:28:34.417219",
     "status": "completed"
    },
    "tags": []
   },
   "outputs": [
    {
     "name": "stdout",
     "output_type": "stream",
     "text": [
      "Acurray on test set: 100.00%\n"
     ]
    }
   ],
   "source": [
    "modelling(test_new)"
   ]
  },
  {
   "cell_type": "code",
   "execution_count": 17,
   "id": "963b7043",
   "metadata": {},
   "outputs": [
    {
     "name": "stdout",
     "output_type": "stream",
     "text": [
      "Acurray on test set: 100.00%\n"
     ]
    }
   ],
   "source": [
    "test_new2 = test_new\n",
    "\n",
    "x_new = test_new2.drop('prognosis', axis = 1)\n",
    "y_new = test_new2.prognosis\n",
    "x_train_new, x_test_new, y_train_new, y_test_new = train_test_split(x_new, y_new, test_size=0.3, random_state=42) \n",
    "tree.fit(x_train_new, y_train_new)\n",
    "\n",
    "pred_new = tree.predict(x_test_new)\n",
    "\n",
    "acc_new = tree.score(x_test_new, y_test_new)\n",
    "#     a = mean_absolute_error(y_test_new, pred_new)\n",
    "print(\"Acurray on test set: {:.2f}%\".format(acc*100))\n",
    "#     print(\"mean_absolute_error of the test set: {:.2f}%\".format(a))"
   ]
  },
  {
   "cell_type": "code",
   "execution_count": 19,
   "id": "503f7bd3",
   "metadata": {},
   "outputs": [
    {
     "name": "stdout",
     "output_type": "stream",
     "text": [
      "    itching  weight_loss  pain_behind_the_eyes  mild_fever  yellowing_of_eyes  \\\n",
      "9         0            0                     0           0                  0   \n",
      "15        0            0                     0           0                  0   \n",
      "33        0            0                     0           0                  0   \n",
      "16        1            0                     0           1                  0   \n",
      "36        0            0                     0           0                  0   \n",
      "\n",
      "    congestion  neck_pain  enlarged_thyroid  slurred_speech  hip_joint_pain  \\\n",
      "9            0          0                 0               0               0   \n",
      "15           0          0                 0               0               0   \n",
      "33           0          0                 0               1               0   \n",
      "16           0          0                 0               0               0   \n",
      "36           0          0                 0               0               0   \n",
      "\n",
      "    ...  abnormal_menstruation  dischromic _patches  polyuria  rusty_sputum  \\\n",
      "9   ...                      0                    0         0             0   \n",
      "15  ...                      0                    0         0             0   \n",
      "33  ...                      0                    0         0             0   \n",
      "16  ...                      0                    0         0             0   \n",
      "36  ...                      0                    0         0             0   \n",
      "\n",
      "    lack_of_concentration  fluid_overload.1  blood_in_sputum  \\\n",
      "9                       0                 0                0   \n",
      "15                      0                 0                0   \n",
      "33                      0                 0                0   \n",
      "16                      0                 0                0   \n",
      "36                      0                 0                0   \n",
      "\n",
      "    prominent_veins_on_calf  silver_like_dusting  yellow_crust_ooze  \n",
      "9                         0                    0                  0  \n",
      "15                        0                    0                  0  \n",
      "33                        0                    0                  0  \n",
      "16                        0                    0                  0  \n",
      "36                        0                    0                  0  \n",
      "\n",
      "[5 rows x 28 columns]\n",
      "[[0 0 0 0 0 0 0 0 0 0 0 0 0 0 0 0 0 0 0 0 0 0 0 0 0 0 0 0]\n",
      " [0 0 0 0 0 0 0 0 0 0 0 0 0 0 0 1 0 0 0 0 0 0 0 0 0 0 0 0]\n",
      " [0 0 0 0 0 0 0 0 1 0 0 0 0 0 0 0 0 0 0 0 0 0 0 0 0 0 0 0]\n",
      " [1 0 0 1 0 0 0 0 0 0 0 0 0 0 0 0 0 0 0 0 0 0 0 0 0 0 0 0]\n",
      " [0 0 0 0 0 0 0 0 0 0 0 1 0 0 0 0 0 0 0 0 0 0 0 0 0 0 0 0]]\n",
      "[1 0 0 0 0 0 0 0 0 0 0 0 0 0 0 0 0 0 0 0 0 0 0 0 0 0 0 0]\n",
      "['Fungal infection']\n"
     ]
    },
    {
     "name": "stderr",
     "output_type": "stream",
     "text": [
      "C:\\Users\\LENOVO\\AppData\\Roaming\\Python\\Python310\\site-packages\\sklearn\\base.py:450: UserWarning: X does not have valid feature names, but DecisionTreeClassifier was fitted with feature names\n",
      "  warnings.warn(\n"
     ]
    }
   ],
   "source": [
    "input_data = np.asarray([0 for i in range(28)])\n",
    "print(x_train_new.head())\n",
    "print(np.asarray(x_train_new[0:5]))\n",
    "input_data[0] = 1\n",
    "print(input_data)\n",
    "input_data2 = input_data.reshape(1,-1)\n",
    "pred_test1 = tree.predict(input_data2)\n",
    "print(pred_test1)"
   ]
  },
  {
   "cell_type": "code",
   "execution_count": 20,
   "id": "313507a9",
   "metadata": {},
   "outputs": [],
   "source": [
    "import pickle"
   ]
  },
  {
   "cell_type": "code",
   "execution_count": 21,
   "id": "257a0c88",
   "metadata": {},
   "outputs": [],
   "source": [
    "filename = 'symptom_model.sav'"
   ]
  },
  {
   "cell_type": "code",
   "execution_count": 22,
   "id": "e3bf8d3a",
   "metadata": {},
   "outputs": [],
   "source": [
    "pickle.dump(tree,open(filename,'wb'))"
   ]
  }
 ],
 "metadata": {
  "kernelspec": {
   "display_name": "Python 3 (ipykernel)",
   "language": "python",
   "name": "python3"
  },
  "language_info": {
   "codemirror_mode": {
    "name": "ipython",
    "version": 3
   },
   "file_extension": ".py",
   "mimetype": "text/x-python",
   "name": "python",
   "nbconvert_exporter": "python",
   "pygments_lexer": "ipython3",
   "version": "3.10.6"
  },
  "papermill": {
   "default_parameters": {},
   "duration": 14.073548,
   "end_time": "2022-04-27T15:28:35.494181",
   "environment_variables": {},
   "exception": null,
   "input_path": "__notebook__.ipynb",
   "output_path": "__notebook__.ipynb",
   "parameters": {},
   "start_time": "2022-04-27T15:28:21.420633",
   "version": "2.3.3"
  }
 },
 "nbformat": 4,
 "nbformat_minor": 5
}
